{
 "cells": [
  {
   "cell_type": "code",
   "execution_count": null,
   "metadata": {},
   "outputs": [],
   "source": [
    "import numpy as np\n",
    "from IPython.display import Image\n",
    "from IPython.display import display\n",
    "import numpy as np\n",
    "import pandas as pd\n",
    "from scipy.sparse import load_npz\n",
    "from tqdm import tqdm\n",
    "from google.colab import drive\n",
    "from google.colab import files\n",
    "import pandas as pd \n",
    "import matplotlib.pyplot as plt \n",
    "from sklearn.utils import shuffle \n",
    "from keras.models import Model\n",
    "from keras.layers import Input,Embedding, Flatten, Dense, Concatenate\n",
    "from keras.layers import Activation\n",
    "from keras.optimizers import SGD,Adam"
   ]
  },
  {
   "cell_type": "markdown",
   "metadata": {},
   "source": [
    "# Load data"
   ]
  },
  {
   "cell_type": "code",
   "execution_count": null,
   "metadata": {},
   "outputs": [],
   "source": [
    "drive.mount('/content/drive')\n",
    "test_csr=load_npz('/content/drive/MyDrive/recom/train_csr.npz')\n",
    "print(test_csr.shape)"
   ]
  },
  {
   "cell_type": "markdown",
   "metadata": {},
   "source": [
    "# Create dataframe"
   ]
  },
  {
   "cell_type": "code",
   "execution_count": null,
   "metadata": {},
   "outputs": [],
   "source": [
    "rows, cols = test_csr.nonzero()\n",
    "df2 = pd.DataFrame(columns=[ 'user_id', 'movie_id','rating'])\n",
    "df2['user_id'] = cols\n",
    "df2['movie_id'] = rows\n",
    "df2['rating'] = test_csr.data\n",
    "df2"
   ]
  },
  {
   "cell_type": "markdown",
   "metadata": {},
   "source": [
    "# split data"
   ]
  },
  {
   "cell_type": "code",
   "execution_count": null,
   "metadata": {},
   "outputs": [],
   "source": [
    "N=df2.user_id.max()+1\n",
    "M=df2.movie_id.max()+1\n",
    "# df3=df2.loc[1:1000000,:]\n",
    "df3=shuffle(df2)\n",
    "cutoff=int(0.8*len(df3))\n",
    "df_train=df3.iloc[:cutoff]\n",
    "df_test=df3.iloc[cutoff:]"
   ]
  },
  {
   "cell_type": "markdown",
   "metadata": {},
   "source": [
    "# Hyper parameters"
   ]
  },
  {
   "cell_type": "code",
   "execution_count": null,
   "metadata": {},
   "outputs": [],
   "source": [
    "K=10  \n",
    "epochs=50\n",
    "batch_size=64\n",
    "learning_rate=0.01\n",
    "momentum =0.9"
   ]
  },
  {
   "cell_type": "markdown",
   "metadata": {},
   "source": [
    "# model"
   ]
  },
  {
   "cell_type": "code",
   "execution_count": null,
   "metadata": {},
   "outputs": [],
   "source": [
    "u=Input(shape=(1,))\n",
    "m=Input(shape=(1,))\n",
    "u_embedding=Embedding(N,K)(u)\n",
    "m_embedding=Embedding(M,K)(m)\n",
    "u_embedding=Flatten()(u_embedding)\n",
    "m_embedding=Flatten()(m_embedding)\n",
    "X=Concatenate()([u_embedding,m_embedding])\n",
    "\n",
    "X=Dense(400)(X)\n",
    "X=Activation('relu')(X)\n",
    "X=Dense(1, activation='sigmoid')(X)\n",
    "model=Model(inputs=(u,m),outputs=(X))\n",
    "model.compile(loss='mse', optimizer=SGD(learning_rate=learning_rate,momentum =momentum),metrics=['mse'])\n",
    "\n",
    "model.summary()"
   ]
  },
  {
   "cell_type": "markdown",
   "metadata": {},
   "source": [
    "# Train model"
   ]
  },
  {
   "cell_type": "code",
   "execution_count": null,
   "metadata": {},
   "outputs": [],
   "source": [
    "recom = model.fit(\n",
    "    x=[df_train.user_id.values,df_train.movie_id.values], \n",
    "    y=df_train.rating.values,\n",
    "    epochs=epochs, \n",
    "    batch_size=batch_size,\n",
    "    validation_data=([df_test.user_id.values,df_test.movie_id.values],\n",
    "    df_test.rating.values ))"
   ]
  },
  {
   "cell_type": "markdown",
   "metadata": {},
   "source": [
    "# Learning curve"
   ]
  },
  {
   "cell_type": "code",
   "execution_count": null,
   "metadata": {},
   "outputs": [],
   "source": [
    "plt.plot(recom.history['loss'],label=\"train loss\")\n",
    "plt.plot(recom.history['val_loss'],label=\"test loss\")\n",
    "plt.legend()\n",
    "plt.show()"
   ]
  },
  {
   "cell_type": "code",
   "execution_count": null,
   "metadata": {},
   "outputs": [],
   "source": [
    "prediction=model.predict([df_test.user_id.values,df_test.movie_id.values])"
   ]
  }
 ],
 "metadata": {
  "celltoolbar": "Raw Cell Format",
  "kernelspec": {
   "display_name": "Python 3",
   "language": "python",
   "name": "python3"
  },
  "language_info": {
   "codemirror_mode": {
    "name": "ipython",
    "version": 3
   },
   "file_extension": ".py",
   "mimetype": "text/x-python",
   "name": "python",
   "nbconvert_exporter": "python",
   "pygments_lexer": "ipython3",
   "version": "3.7.6"
  }
 },
 "nbformat": 4,
 "nbformat_minor": 4
}
