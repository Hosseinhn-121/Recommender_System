{
 "cells": [
  {
   "cell_type": "code",
   "execution_count": null,
   "metadata": {},
   "outputs": [],
   "source": [
    "pip install PyMovieDb"
   ]
  },
  {
   "cell_type": "code",
   "execution_count": null,
   "metadata": {},
   "outputs": [],
   "source": [
    "pip install rottentomatoes-python"
   ]
  },
  {
   "cell_type": "code",
   "execution_count": null,
   "metadata": {},
   "outputs": [],
   "source": [
    "pip install selenium"
   ]
  },
  {
   "cell_type": "code",
   "execution_count": null,
   "metadata": {},
   "outputs": [],
   "source": [
    "from google.colab import drive\n",
    "drive.mount('/content/drive')"
   ]
  },
  {
   "cell_type": "code",
   "execution_count": null,
   "metadata": {},
   "outputs": [],
   "source": [
    "%%shell\n",
    "\n",
    "# Add debian buster\n",
    "cat > /etc/apt/sources.list.d/debian.list <<'EOF'\n",
    "deb [arch=amd64 signed-by=/usr/share/keyrings/debian-buster.gpg] http://deb.debian.org/debian buster main\n",
    "deb [arch=amd64 signed-by=/usr/share/keyrings/debian-buster-updates.gpg] http://deb.debian.org/debian buster-updates main\n",
    "deb [arch=amd64 signed-by=/usr/share/keyrings/debian-security-buster.gpg] http://deb.debian.org/debian-security buster/updates main\n",
    "EOF\n",
    "\n",
    "# Add keys\n",
    "apt-key adv --keyserver keyserver.ubuntu.com --recv-keys DCC9EFBF77E11517\n",
    "apt-key adv --keyserver keyserver.ubuntu.com --recv-keys 648ACFD622F3D138\n",
    "apt-key adv --keyserver keyserver.ubuntu.com --recv-keys 112695A0E562B32A\n",
    "\n",
    "apt-key export 77E11517 | gpg --dearmour -o /usr/share/keyrings/debian-buster.gpg\n",
    "apt-key export 22F3D138 | gpg --dearmour -o /usr/share/keyrings/debian-buster-updates.gpg\n",
    "apt-key export E562B32A | gpg --dearmour -o /usr/share/keyrings/debian-security-buster.gpg\n",
    "\n",
    "# Prefer debian repo for chromium* packages only\n",
    "# Note the double-blank lines between entries\n",
    "cat > /etc/apt/preferences.d/chromium.pref << 'EOF'\n",
    "Package: *\n",
    "Pin: release a=eoan\n",
    "Pin-Priority: 500\n",
    "\n",
    "\n",
    "Package: *\n",
    "Pin: origin \"deb.debian.org\"\n",
    "Pin-Priority: 300\n",
    "\n",
    "\n",
    "Package: chromium*\n",
    "Pin: origin \"deb.debian.org\"\n",
    "Pin-Priority: 700\n",
    "EOF"
   ]
  },
  {
   "cell_type": "code",
   "execution_count": null,
   "metadata": {},
   "outputs": [],
   "source": [
    "!apt-get update\n",
    "!apt-get install chromium chromium-driver"
   ]
  },
  {
   "cell_type": "code",
   "execution_count": null,
   "metadata": {},
   "outputs": [],
   "source": [
    "from PyMovieDb import IMDB\n",
    "import rottentomatoes as rt\n",
    "import json as js\n",
    "import numpy as np\n",
    "from google.colab import files\n",
    "import pandas as pd\n",
    "import time\n",
    "from tqdm import tqdm, trange\n",
    "from scipy.sparse import load_npz\n",
    "\n",
    "imdb = IMDB()"
   ]
  },
  {
   "cell_type": "code",
   "execution_count": null,
   "metadata": {},
   "outputs": [],
   "source": [
    "\n",
    "train_csr = load_npz('/content/drive/MyDrive/recom/train_csr.npz')"
   ]
  },
  {
   "cell_type": "code",
   "execution_count": null,
   "metadata": {},
   "outputs": [],
   "source": [
    "\n",
    "rows, cols = train_csr.nonzero()\n",
    "(train_csr.data).shape"
   ]
  },
  {
   "cell_type": "code",
   "execution_count": null,
   "metadata": {},
   "outputs": [],
   "source": [
    "sparce_df = pd.DataFrame(columns=['movie_id', 'user_id', 'rank'])\n",
    "sparce_df"
   ]
  },
  {
   "cell_type": "code",
   "execution_count": null,
   "metadata": {},
   "outputs": [],
   "source": [
    "sparce_df['user_id'] = cols\n",
    "sparce_df['movie_id'] = rows\n",
    "sparce_df['rank'] = train_csr.data\n",
    "sparce_df"
   ]
  },
  {
   "cell_type": "code",
   "execution_count": null,
   "metadata": {},
   "outputs": [],
   "source": [
    "movie_name_df = pd.read_csv('/content/drive/MyDrive/recom/movie_titles.txt', sep=',', encoding=\"ISO-8859-1\", names=['index_', 'year', 'movie_name', 'extra_1', 'extra_2', 'extra_3'])\n",
    "movie_name_df.year = movie_name_df.year.fillna(0)\n",
    "movie_name_df.year = movie_name_df.year.astype(int)\n",
    "movie_name_df"
   ]
  },
  {
   "cell_type": "markdown",
   "metadata": {},
   "source": [
    "# Extracting metadata"
   ]
  },
  {
   "cell_type": "code",
   "execution_count": null,
   "metadata": {},
   "outputs": [],
   "source": [
    "# tomatometer rate\n",
    "def extract_tomatometer_rate(df, start_index, end_index):\n",
    "  tom_non_data = []\n",
    "  tom_rate = []\n",
    "  tom_rate_name = []\n",
    "  for movie in tqdm(df['movie_name'][start_index: end_index]):\n",
    "    try:\n",
    "      tom_rate.append(rt.tomatometer(movie))\n",
    "      tom_rate_name.append(movie)\n",
    "    except:\n",
    "      tom_non_data.append(movie)\n",
    "\n",
    "  # print(f'rated: {tom_rate}')\n",
    "  # print(f'non rated: {tom_non_data}')\n",
    "  return tom_rate, tom_non_data, tom_rate_name"
   ]
  },
  {
   "cell_type": "code",
   "execution_count": null,
   "metadata": {},
   "outputs": [],
   "source": [
    "# IMDB data\n",
    "def extract_imdb_data(df, start_index, end_index):\n",
    "  IMDB_non_data = []\n",
    "  IMDB_data = []\n",
    "  IMDB_data_name = []\n",
    "  for movie in tqdm(df['movie_name'][start_index: end_index]):\n",
    "    try:\n",
    "\n",
    "      temp = js.loads(imdb.get_by_name(movie, tv=False))\n",
    "      assert temp['type'] == \"Movie\" #chacking 404 error\n",
    "      IMDB_data.append(temp)\n",
    "      IMDB_data_name.append(movie)\n",
    "    except:\n",
    "      try:\n",
    "        res = js.loads(imdb.search(movie, tv=False))\n",
    "        film = js.loads(imdb.get_by_id(res['results'][0]['id']))\n",
    "        assert temp['type'] == \"Movie\" #chacking 404 error\n",
    "        IMDB_data.append(temp)\n",
    "        IMDB_data_name.append(movie)\n",
    "      except:\n",
    "        IMDB_non_data.append(movie)\n",
    "\n",
    "  # print(f'IMDB data: {IMDB_data}')\n",
    "  # print(f'non data: {IMDB_non_data}')\n",
    "  # print(len(IMDB_data))\n",
    "  return IMDB_data, IMDB_non_data, IMDB_data_name"
   ]
  },
  {
   "cell_type": "code",
   "execution_count": null,
   "metadata": {},
   "outputs": [],
   "source": [
    "\n",
    "for i in trange(0, movie_name_df.shape[0]+1, 10):\n",
    "  # movie_name_df.shape[0]\n",
    "  print(f'\\n -----> batch {i} \\n')\n",
    "  tomatometer_rate, non_tomatometer_rate, tom_rate_name = extract_tomatometer_rate(movie_name_df, i, i + 10)\n",
    "  \n",
    "  imdb_data, imdb_non_data, imdb_data_name = extract_imdb_data(movie_name_df, i, i + 10)\n",
    "  \n",
    "  # save tomatometer data\n",
    "  with open(f'/content/drive/MyDrive/recom/tomatometer_data/batch_{i}_tomatometer.txt', 'w') as f:\n",
    "    f.write(str(tomatometer_rate))\n",
    "  with open(f'/content/drive/MyDrive/recom/tomatometer_data/non_data/batch_{i}_non_tomatometer.txt', 'w') as f:\n",
    "    f.write(str(non_tomatometer_rate))\n",
    "  with open(f'/content/drive/MyDrive/recom/tomatometer_data/data_name/batch_{i}_name_tomatometer.txt', 'w') as f:\n",
    "    f.write(str(tom_rate_name))\n",
    "  \n",
    "  # save imdb data\n",
    "  with open(f'/content/drive/MyDrive/recom/imdb_data/batch_{i}_imdb.txt', 'w') as f:\n",
    "    f.write(str(imdb_data))\n",
    "  with open(f'/content/drive/MyDrive/recom/imdb_data/non_data/batch_{i}_non_imdb.txt', 'w') as f:\n",
    "    f.write(str(imdb_non_data))\n",
    "  with open(f'/content/drive/MyDrive/recom/imdb_data/data_name/batch_{i}_name_imdb.txt', 'w') as f:\n",
    "    f.write(str(imdb_data_name))"
   ]
  },
  {
   "cell_type": "code",
   "execution_count": null,
   "metadata": {},
   "outputs": [],
   "source": [
    "from selenium import webdriver\n",
    "from selenium.webdriver.common.by import By\n",
    "from selenium.webdriver.common.keys import Keys\n",
    "\n",
    "def web_driver():\n",
    "    options = webdriver.ChromeOptions()\n",
    "    options.add_argument(\"--verbose\")\n",
    "    options.add_argument('--no-sandbox')\n",
    "    options.add_argument('--headless')\n",
    "    options.add_argument('--disable-gpu')\n",
    "    options.add_argument(\"--window-size=1920, 1200\")\n",
    "    options.add_argument('--disable-dev-shm-usage')\n",
    "    driver = webdriver.Chrome(options=options)\n",
    "    return driver\n"
   ]
  },
  {
   "cell_type": "code",
   "execution_count": null,
   "metadata": {},
   "outputs": [],
   "source": [
    "\n",
    "def extract_google_rate(movie, try_count):\n",
    "  try:\n",
    "    driver = web_driver()\n",
    "    driver.get('https://www.google.com')\n",
    "    element = driver.find_element(By.ID, \"APjFqb\")\n",
    "    element.send_keys(movie)\n",
    "    element.send_keys(Keys.RETURN)\n",
    "    element = driver.find_element(By.CSS_SELECTOR, 'div.a19vA')\n",
    "    rate = element.text\n",
    "    driver.quit()\n",
    "    return int(rate[:2])\n",
    "  except:\n",
    "    driver.quit()\n",
    "    if try_count < 10:\n",
    "        try_count += 1\n",
    "        time.sleep(2)\n",
    "        return extract_google_rate(movie, try_count)\n",
    "    else:\n",
    "        return 0\n"
   ]
  },
  {
   "cell_type": "code",
   "execution_count": null,
   "metadata": {},
   "outputs": [],
   "source": [
    "def get_google_data(df, start_index, end_index):  \n",
    "  google_non_data = []\n",
    "  google_rate = []\n",
    "  movie_name = []\n",
    "  temp_count = start_index\n",
    "  for movie in tqdm(df['movie_name'][start_index: end_index]):\n",
    "    # print(f'---> {movie}')\n",
    "    try:\n",
    "      try_count = 0\n",
    "      temp = 0\n",
    "      movie_full = ''\n",
    "      movie_full = movie + ' movie ' + str(df.year[temp_count])\n",
    "      # print(f'---> {movie_full}')\n",
    "      temp = extract_google_rate(movie_full, try_count)\n",
    "      if temp == 0:\n",
    "        temp = extract_google_rate(movie + ' movie ', 9)\n",
    "        if temp == 0:\n",
    "          google_non_data.append(movie)\n",
    "      \n",
    "      google_rate.append(temp)\n",
    "      movie_name.append(movie)\n",
    "        \n",
    "    except:\n",
    "      google_non_data.append(movie)\n",
    "    \n",
    "    temp_count += 1\n",
    "\n",
    "  print(f'rated: {google_rate}')\n",
    "  print(f'name: {movie_name}')\n",
    "  print(f'non rated: {google_non_data}')\n",
    "\n",
    "  return google_rate, google_non_data, movie_name"
   ]
  },
  {
   "cell_type": "code",
   "execution_count": null,
   "metadata": {},
   "outputs": [],
   "source": [
    "for i in trange(0, movie_name_df.shape[0] + 1, 10):\n",
    "  # movie_name_df.shape[0] + 1\n",
    "  print(f'\\n -----> batch {i} \\n')\n",
    "  google_rate, google_non_data, movie_name_google = get_google_data(movie_name_df, i, i + 10)\n",
    "  \n",
    "  # save google data\n",
    "  with open(f'/content/drive/MyDrive/recom/google_data/batch_{i}_google.txt', 'w') as f:\n",
    "    f.write(str(google_rate))\n",
    "  with open(f'/content/drive/MyDrive/recom/google_data/non_data/batch_{i}_non_google.txt', 'w') as f:\n",
    "    f.write(str(google_non_data))\n",
    "  with open(f'/content/drive/MyDrive/recom/google_data/data_name/batch_{i}_name_google.txt', 'w') as f:\n",
    "    f.write(str(movie_name_google))"
   ]
  }
 ],
 "metadata": {
  "kernelspec": {
   "display_name": "Python 3",
   "language": "python",
   "name": "python3"
  },
  "language_info": {
   "codemirror_mode": {
    "name": "ipython",
    "version": 3
   },
   "file_extension": ".py",
   "mimetype": "text/x-python",
   "name": "python",
   "nbconvert_exporter": "python",
   "pygments_lexer": "ipython3",
   "version": "3.7.6"
  }
 },
 "nbformat": 4,
 "nbformat_minor": 4
}
